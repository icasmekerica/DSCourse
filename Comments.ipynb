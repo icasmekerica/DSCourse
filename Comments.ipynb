{
 "cells": [
  {
   "cell_type": "code",
   "execution_count": 3,
   "id": "0a01e69a-1017-40da-a1ad-70430b1f3e0a",
   "metadata": {},
   "outputs": [
    {
     "name": "stdout",
     "output_type": "stream",
     "text": [
      "7 2\n"
     ]
    }
   ],
   "source": [
    "# ica je car\n",
    "print(7,2)"
   ]
  },
  {
   "cell_type": "code",
   "execution_count": 5,
   "id": "8ede5633-4394-4c60-8d1c-450ae1423a7d",
   "metadata": {},
   "outputs": [
    {
     "data": {
      "text/plain": [
       "300"
      ]
     },
     "execution_count": 5,
     "metadata": {},
     "output_type": "execute_result"
    }
   ],
   "source": [
    "#ica je car\n",
    "#ica je car\n",
    "300"
   ]
  },
  {
   "cell_type": "code",
   "execution_count": null,
   "id": "a9b8a4b7-d0a9-4745-a89c-0e1561a49668",
   "metadata": {},
   "outputs": [],
   "source": []
  }
 ],
 "metadata": {
  "kernelspec": {
   "display_name": "Python 3 (ipykernel)",
   "language": "python",
   "name": "python3"
  },
  "language_info": {
   "codemirror_mode": {
    "name": "ipython",
    "version": 3
   },
   "file_extension": ".py",
   "mimetype": "text/x-python",
   "name": "python",
   "nbconvert_exporter": "python",
   "pygments_lexer": "ipython3",
   "version": "3.12.7"
  }
 },
 "nbformat": 4,
 "nbformat_minor": 5
}
