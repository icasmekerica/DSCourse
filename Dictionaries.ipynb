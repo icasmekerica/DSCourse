{
 "cells": [
  {
   "cell_type": "code",
   "execution_count": 1,
   "id": "573b1806-fa92-4925-bdfd-dfce348a853a",
   "metadata": {},
   "outputs": [
    {
     "data": {
      "text/plain": [
       "{'k1': 'cat', 'k2': 'dog', 'k3': 'mouse', 'k4': 'finish'}"
      ]
     },
     "execution_count": 1,
     "metadata": {},
     "output_type": "execute_result"
    }
   ],
   "source": [
    "dict = {'k1' : \"cat\", 'k2' : 'dog', 'k3' : \"mouse\", 'k4' : \"finish\"}\n",
    "dict"
   ]
  },
  {
   "cell_type": "code",
   "execution_count": 3,
   "id": "6576e497-83cb-4ab9-a946-b96550f49262",
   "metadata": {},
   "outputs": [
    {
     "data": {
      "text/plain": [
       "'cat'"
      ]
     },
     "execution_count": 3,
     "metadata": {},
     "output_type": "execute_result"
    }
   ],
   "source": [
    "dict['k1']"
   ]
  },
  {
   "cell_type": "code",
   "execution_count": 5,
   "id": "291730e2-ba48-4f20-b18e-8c195cc113bd",
   "metadata": {},
   "outputs": [
    {
     "data": {
      "text/plain": [
       "'mouse'"
      ]
     },
     "execution_count": 5,
     "metadata": {},
     "output_type": "execute_result"
    }
   ],
   "source": [
    "dict['k3']"
   ]
  },
  {
   "cell_type": "code",
   "execution_count": 7,
   "id": "1d63cc98-3bf5-419e-9092-f52e9396f109",
   "metadata": {},
   "outputs": [
    {
     "data": {
      "text/plain": [
       "{'k1': 'cat', 'k2': 'dog', 'k3': 'mouse', 'k4': 'finish', 'k5': 'parrot'}"
      ]
     },
     "execution_count": 7,
     "metadata": {},
     "output_type": "execute_result"
    }
   ],
   "source": [
    "dict['k5'] = 'parrot'\n",
    "dict"
   ]
  },
  {
   "cell_type": "code",
   "execution_count": 9,
   "id": "fe358386-6a2c-4d08-8a37-264a2d241403",
   "metadata": {},
   "outputs": [
    {
     "data": {
      "text/plain": [
       "{'k1': 'cat', 'k2': 'squirrle', 'k3': 'mouse', 'k4': 'finish', 'k5': 'parrot'}"
      ]
     },
     "execution_count": 9,
     "metadata": {},
     "output_type": "execute_result"
    }
   ],
   "source": [
    "dict['k2'] = 'squirrle'\n",
    "dict"
   ]
  },
  {
   "cell_type": "code",
   "execution_count": null,
   "id": "c093a864-9510-4a21-b823-62306c09a4b4",
   "metadata": {},
   "outputs": [],
   "source": []
  }
 ],
 "metadata": {
  "kernelspec": {
   "display_name": "Python 3 (ipykernel)",
   "language": "python",
   "name": "python3"
  },
  "language_info": {
   "codemirror_mode": {
    "name": "ipython",
    "version": 3
   },
   "file_extension": ".py",
   "mimetype": "text/x-python",
   "name": "python",
   "nbconvert_exporter": "python",
   "pygments_lexer": "ipython3",
   "version": "3.12.7"
  }
 },
 "nbformat": 4,
 "nbformat_minor": 5
}
