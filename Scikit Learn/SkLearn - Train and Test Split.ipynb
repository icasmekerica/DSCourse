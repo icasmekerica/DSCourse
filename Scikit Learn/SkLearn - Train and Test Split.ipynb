{
 "cells": [
  {
   "cell_type": "code",
   "execution_count": 1,
   "id": "fc970688-ee19-4168-8a9c-ae3c0bd5c1ad",
   "metadata": {},
   "outputs": [],
   "source": [
    "#import relevant libraries\n",
    "import numpy as np\n",
    "from sklearn.model_selection import train_test_split"
   ]
  },
  {
   "cell_type": "code",
   "execution_count": 13,
   "id": "6e72535f-130d-437e-95e2-cad224ebe2dd",
   "metadata": {},
   "outputs": [],
   "source": [
    "a = np.arange(1,101)"
   ]
  },
  {
   "cell_type": "code",
   "execution_count": 15,
   "id": "aefd924b-fc6d-4c7b-a170-05a1d4f9d2ad",
   "metadata": {},
   "outputs": [
    {
     "data": {
      "text/plain": [
       "array([  1,   2,   3,   4,   5,   6,   7,   8,   9,  10,  11,  12,  13,\n",
       "        14,  15,  16,  17,  18,  19,  20,  21,  22,  23,  24,  25,  26,\n",
       "        27,  28,  29,  30,  31,  32,  33,  34,  35,  36,  37,  38,  39,\n",
       "        40,  41,  42,  43,  44,  45,  46,  47,  48,  49,  50,  51,  52,\n",
       "        53,  54,  55,  56,  57,  58,  59,  60,  61,  62,  63,  64,  65,\n",
       "        66,  67,  68,  69,  70,  71,  72,  73,  74,  75,  76,  77,  78,\n",
       "        79,  80,  81,  82,  83,  84,  85,  86,  87,  88,  89,  90,  91,\n",
       "        92,  93,  94,  95,  96,  97,  98,  99, 100])"
      ]
     },
     "execution_count": 15,
     "metadata": {},
     "output_type": "execute_result"
    }
   ],
   "source": [
    "a"
   ]
  },
  {
   "cell_type": "code",
   "execution_count": 17,
   "id": "c88bceef-3ad8-4ab1-bee6-61348c19e096",
   "metadata": {},
   "outputs": [
    {
     "data": {
      "text/plain": [
       "array([501, 502, 503, 504, 505, 506, 507, 508, 509, 510, 511, 512, 513,\n",
       "       514, 515, 516, 517, 518, 519, 520, 521, 522, 523, 524, 525, 526,\n",
       "       527, 528, 529, 530, 531, 532, 533, 534, 535, 536, 537, 538, 539,\n",
       "       540, 541, 542, 543, 544, 545, 546, 547, 548, 549, 550, 551, 552,\n",
       "       553, 554, 555, 556, 557, 558, 559, 560, 561, 562, 563, 564, 565,\n",
       "       566, 567, 568, 569, 570, 571, 572, 573, 574, 575, 576, 577, 578,\n",
       "       579, 580, 581, 582, 583, 584, 585, 586, 587, 588, 589, 590, 591,\n",
       "       592, 593, 594, 595, 596, 597, 598, 599, 600])"
      ]
     },
     "execution_count": 17,
     "metadata": {},
     "output_type": "execute_result"
    }
   ],
   "source": [
    "b = np.arange(501,601)\n",
    "b"
   ]
  },
  {
   "cell_type": "code",
   "execution_count": 19,
   "id": "4043cd4d-538a-403f-82a3-3d1191fd94a0",
   "metadata": {},
   "outputs": [
    {
     "data": {
      "text/plain": [
       "[array([66, 47, 97, 82, 96, 94, 89, 88, 76, 23, 93, 69,  2, 34, 20, 92, 81,\n",
       "        38, 45, 31, 19, 91, 53, 75, 43, 21, 11, 59, 65, 55, 67, 99, 64, 27,\n",
       "        35, 54, 52, 39, 77, 80,  3,  6, 48, 13, 90, 85, 95, 26, 58,  5,  7,\n",
       "        15,  4, 29, 78, 86, 62, 37,  9, 12, 25, 60, 56, 71, 50, 74, 61, 49,\n",
       "        98, 32, 87, 28, 70, 46, 40]),\n",
       " array([ 14,  44,  51,  57,  33,  84,  24,  18,  16,  68,  36,  42,  41,\n",
       "         63,  73, 100,  22,  30,   1,   8,  83,  72,  17,  10,  79])]"
      ]
     },
     "execution_count": 19,
     "metadata": {},
     "output_type": "execute_result"
    }
   ],
   "source": [
    "#split data\n",
    "train_test_split(a)"
   ]
  },
  {
   "cell_type": "code",
   "execution_count": 46,
   "id": "d82349e1-0939-4482-9205-b3476e946d53",
   "metadata": {},
   "outputs": [],
   "source": [
    "a_train, a_test, b_train, b_test = train_test_split(a, b, test_size= 0.2) #shuffle = False, random_state = 365"
   ]
  },
  {
   "cell_type": "code",
   "execution_count": 48,
   "id": "1223cf3c-d0c4-45db-a01d-809f1cd7a213",
   "metadata": {},
   "outputs": [
    {
     "data": {
      "text/plain": [
       "((80,), (20,))"
      ]
     },
     "execution_count": 48,
     "metadata": {},
     "output_type": "execute_result"
    }
   ],
   "source": [
    "a_train.shape, a_test.shape"
   ]
  },
  {
   "cell_type": "code",
   "execution_count": 50,
   "id": "a5346303-6110-412e-8818-363d091d9e6a",
   "metadata": {},
   "outputs": [
    {
     "data": {
      "text/plain": [
       "array([ 98,  42,  71,  61,  21,  67,  23,  85,  59,  87,  34,  36,  51,\n",
       "        15,   3,  73,  99,  62,  16,  79,  14,  47,  66,   9,  27,  81,\n",
       "        37,  46,  31,   4,  95,  39,  13,  40,  24,   7,  83,  82,  58,\n",
       "        49,  75,  69,  72,  90,  77,  89,  28,  86,  10,  60,  94,  17,\n",
       "        33,  35, 100,  76,  52,   8,   2,  29,  44,  80,  64,  74,  48,\n",
       "        96,  91,  78,   1,  18,  92,  30,  88,  50,  53,  63,  32,  25,\n",
       "         5,  45])"
      ]
     },
     "execution_count": 50,
     "metadata": {},
     "output_type": "execute_result"
    }
   ],
   "source": [
    "a_train"
   ]
  },
  {
   "cell_type": "code",
   "execution_count": 52,
   "id": "cd13d961-9b6a-404e-9d2f-44fcbf16e27c",
   "metadata": {},
   "outputs": [
    {
     "data": {
      "text/plain": [
       "array([56, 54, 41, 11, 97, 12, 57, 22, 19, 55, 43, 68, 65, 93,  6, 26, 70,\n",
       "       20, 38, 84])"
      ]
     },
     "execution_count": 52,
     "metadata": {},
     "output_type": "execute_result"
    }
   ],
   "source": [
    "a_test"
   ]
  },
  {
   "cell_type": "code",
   "execution_count": 54,
   "id": "52845473-7fe7-4577-903f-e9550803b67d",
   "metadata": {},
   "outputs": [
    {
     "data": {
      "text/plain": [
       "((80,), (20,))"
      ]
     },
     "execution_count": 54,
     "metadata": {},
     "output_type": "execute_result"
    }
   ],
   "source": [
    "b_train.shape, b_test.shape"
   ]
  },
  {
   "cell_type": "code",
   "execution_count": 56,
   "id": "d6b54630-1f2f-445c-82dd-829c94c2628e",
   "metadata": {},
   "outputs": [
    {
     "data": {
      "text/plain": [
       "array([598, 542, 571, 561, 521, 567, 523, 585, 559, 587, 534, 536, 551,\n",
       "       515, 503, 573, 599, 562, 516, 579, 514, 547, 566, 509, 527, 581,\n",
       "       537, 546, 531, 504, 595, 539, 513, 540, 524, 507, 583, 582, 558,\n",
       "       549, 575, 569, 572, 590, 577, 589, 528, 586, 510, 560, 594, 517,\n",
       "       533, 535, 600, 576, 552, 508, 502, 529, 544, 580, 564, 574, 548,\n",
       "       596, 591, 578, 501, 518, 592, 530, 588, 550, 553, 563, 532, 525,\n",
       "       505, 545])"
      ]
     },
     "execution_count": 56,
     "metadata": {},
     "output_type": "execute_result"
    }
   ],
   "source": [
    "b_train"
   ]
  },
  {
   "cell_type": "code",
   "execution_count": 58,
   "id": "5d8beed2-2e79-4072-8410-4bfb3ab1983c",
   "metadata": {},
   "outputs": [
    {
     "data": {
      "text/plain": [
       "array([556, 554, 541, 511, 597, 512, 557, 522, 519, 555, 543, 568, 565,\n",
       "       593, 506, 526, 570, 520, 538, 584])"
      ]
     },
     "execution_count": 58,
     "metadata": {},
     "output_type": "execute_result"
    }
   ],
   "source": [
    "b_test"
   ]
  },
  {
   "cell_type": "code",
   "execution_count": null,
   "id": "b849a679-ebb6-4344-a99a-4831292a2e8f",
   "metadata": {},
   "outputs": [],
   "source": []
  }
 ],
 "metadata": {
  "kernelspec": {
   "display_name": "Python 3 (ipykernel)",
   "language": "python",
   "name": "python3"
  },
  "language_info": {
   "codemirror_mode": {
    "name": "ipython",
    "version": 3
   },
   "file_extension": ".py",
   "mimetype": "text/x-python",
   "name": "python",
   "nbconvert_exporter": "python",
   "pygments_lexer": "ipython3",
   "version": "3.12.7"
  }
 },
 "nbformat": 4,
 "nbformat_minor": 5
}
