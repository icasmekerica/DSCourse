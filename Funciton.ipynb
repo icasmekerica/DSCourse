{
 "cells": [
  {
   "cell_type": "code",
   "execution_count": 1,
   "id": "291725c7-977c-41af-bef7-ac1d10b2c5f1",
   "metadata": {},
   "outputs": [],
   "source": [
    "def simple():\n",
    "    print(\"ica je car\")"
   ]
  },
  {
   "cell_type": "code",
   "execution_count": 3,
   "id": "8f9aac4a-1ca8-4afb-9fd9-706c9b734e3b",
   "metadata": {},
   "outputs": [
    {
     "name": "stdout",
     "output_type": "stream",
     "text": [
      "ica je car\n"
     ]
    }
   ],
   "source": [
    "simple()"
   ]
  },
  {
   "cell_type": "code",
   "execution_count": 5,
   "id": "110b2e0d-97ec-42a5-93be-2213589bad00",
   "metadata": {},
   "outputs": [],
   "source": [
    "def plus_ten(a):\n",
    "    return a + 10"
   ]
  },
  {
   "cell_type": "code",
   "execution_count": 11,
   "id": "6169236a-dc33-4180-b7d7-18c4c133e940",
   "metadata": {},
   "outputs": [
    {
     "data": {
      "text/plain": [
       "5"
      ]
     },
     "execution_count": 11,
     "metadata": {},
     "output_type": "execute_result"
    }
   ],
   "source": [
    "plus_ten(-5)"
   ]
  },
  {
   "cell_type": "code",
   "execution_count": 23,
   "id": "2aa77e82-b1c6-48bd-a18f-180392257142",
   "metadata": {},
   "outputs": [],
   "source": [
    "def plus_ten1(a):\n",
    "    resault = a +10\n",
    "    print(\"Outcome\")\n",
    "    return resault"
   ]
  },
  {
   "cell_type": "code",
   "execution_count": 25,
   "id": "beae478e-b46b-4899-8daf-eda93f8482ed",
   "metadata": {},
   "outputs": [
    {
     "name": "stdout",
     "output_type": "stream",
     "text": [
      "Outcome\n"
     ]
    },
    {
     "data": {
      "text/plain": [
       "12"
      ]
     },
     "execution_count": 25,
     "metadata": {},
     "output_type": "execute_result"
    }
   ],
   "source": [
    "plus_ten1(2)"
   ]
  },
  {
   "cell_type": "code",
   "execution_count": 31,
   "id": "44fdec9d-b29a-48ea-933e-31ddf47daeca",
   "metadata": {},
   "outputs": [],
   "source": [
    "def wage(w_hours):\n",
    "    return w_hours * 25\n",
    "def with_bonus(w_hours):\n",
    "    return wage(w_hours) + 50"
   ]
  },
  {
   "cell_type": "code",
   "execution_count": 35,
   "id": "608fdd5b-5538-4c09-935b-ef647e25f6fc",
   "metadata": {},
   "outputs": [
    {
     "data": {
      "text/plain": [
       "(200, 250)"
      ]
     },
     "execution_count": 35,
     "metadata": {},
     "output_type": "execute_result"
    }
   ],
   "source": [
    "wage(8), with_bonus(8)"
   ]
  },
  {
   "cell_type": "code",
   "execution_count": 45,
   "id": "3c490d8c-ae5b-45e5-8601-3444f74ef350",
   "metadata": {},
   "outputs": [],
   "source": [
    "def johnny(saved):\n",
    "    if saved > 100:\n",
    "        return saved + 10\n",
    "    else:\n",
    "        print(\"Save more!\")\n",
    "        return saved"
   ]
  },
  {
   "cell_type": "code",
   "execution_count": 49,
   "id": "6f9de1e2-762e-4fe7-855a-af2a04c5bee5",
   "metadata": {},
   "outputs": [
    {
     "name": "stdout",
     "output_type": "stream",
     "text": [
      "Save more!\n"
     ]
    },
    {
     "data": {
      "text/plain": [
       "30"
      ]
     },
     "execution_count": 49,
     "metadata": {},
     "output_type": "execute_result"
    }
   ],
   "source": [
    "johnny(30)"
   ]
  },
  {
   "cell_type": "code",
   "execution_count": 51,
   "id": "4df0f9e1-71aa-476a-80b6-66035d23d90a",
   "metadata": {},
   "outputs": [],
   "source": [
    "def subtract_bc(a,b,c):\n",
    "    result = a - b*c\n",
    "    print('Parameter a equals', a)\n",
    "    print('Parameter b equals', b)\n",
    "    print('Parameter c equals', c)\n",
    "    return result"
   ]
  },
  {
   "cell_type": "code",
   "execution_count": 53,
   "id": "67f77b37-5f7c-4192-92ee-a062ef3a2e36",
   "metadata": {},
   "outputs": [
    {
     "name": "stdout",
     "output_type": "stream",
     "text": [
      "Parameter a equals 10\n",
      "Parameter b equals 1\n",
      "Parameter c equals 4\n"
     ]
    },
    {
     "data": {
      "text/plain": [
       "6"
      ]
     },
     "execution_count": 53,
     "metadata": {},
     "output_type": "execute_result"
    }
   ],
   "source": [
    "subtract_bc(10, 1, 4)"
   ]
  },
  {
   "cell_type": "code",
   "execution_count": 55,
   "id": "da55704a-0288-4e25-bb8a-5da2770dc525",
   "metadata": {},
   "outputs": [
    {
     "name": "stdout",
     "output_type": "stream",
     "text": [
      "Parameter a equals 110\n",
      "Parameter b equals 3\n",
      "Parameter c equals 5\n"
     ]
    },
    {
     "data": {
      "text/plain": [
       "95"
      ]
     },
     "execution_count": 55,
     "metadata": {},
     "output_type": "execute_result"
    }
   ],
   "source": [
    "subtract_bc(b = 3, a = 110, c = 5)"
   ]
  },
  {
   "cell_type": "code",
   "execution_count": 57,
   "id": "04c74098-8182-4eed-846d-6d4536d54bf1",
   "metadata": {},
   "outputs": [
    {
     "data": {
      "text/plain": [
       "int"
      ]
     },
     "execution_count": 57,
     "metadata": {},
     "output_type": "execute_result"
    }
   ],
   "source": [
    "type(10)"
   ]
  },
  {
   "cell_type": "code",
   "execution_count": 59,
   "id": "5714551a-205a-4f0f-bab1-624b9b7d1293",
   "metadata": {},
   "outputs": [
    {
     "data": {
      "text/plain": [
       "5"
      ]
     },
     "execution_count": 59,
     "metadata": {},
     "output_type": "execute_result"
    }
   ],
   "source": [
    "int(5.0)"
   ]
  },
  {
   "cell_type": "code",
   "execution_count": 61,
   "id": "2158571b-e39d-429c-8e14-7e0459dca38f",
   "metadata": {},
   "outputs": [
    {
     "data": {
      "text/plain": [
       "3.0"
      ]
     },
     "execution_count": 61,
     "metadata": {},
     "output_type": "execute_result"
    }
   ],
   "source": [
    "float(3)"
   ]
  },
  {
   "cell_type": "code",
   "execution_count": 63,
   "id": "31561bb2-45c4-4388-935f-299d52148414",
   "metadata": {},
   "outputs": [
    {
     "data": {
      "text/plain": [
       "'500'"
      ]
     },
     "execution_count": 63,
     "metadata": {},
     "output_type": "execute_result"
    }
   ],
   "source": [
    "str(500)"
   ]
  },
  {
   "cell_type": "code",
   "execution_count": 65,
   "id": "057e0da5-0430-4cb6-a77e-1f9e6ccbc6c3",
   "metadata": {},
   "outputs": [
    {
     "data": {
      "text/plain": [
       "90"
      ]
     },
     "execution_count": 65,
     "metadata": {},
     "output_type": "execute_result"
    }
   ],
   "source": [
    "max(10, 40, 50, 90, 10, 60)"
   ]
  },
  {
   "cell_type": "code",
   "execution_count": 67,
   "id": "090298c4-7d60-4fee-a6ee-b713d04f75cc",
   "metadata": {},
   "outputs": [
    {
     "data": {
      "text/plain": [
       "10"
      ]
     },
     "execution_count": 67,
     "metadata": {},
     "output_type": "execute_result"
    }
   ],
   "source": [
    "min(10, 40, 50, 90, 10, 60)"
   ]
  },
  {
   "cell_type": "code",
   "execution_count": 69,
   "id": "f34633a3-c322-4bb5-bcf8-2175f9eb8f5f",
   "metadata": {},
   "outputs": [
    {
     "data": {
      "text/plain": [
       "20"
      ]
     },
     "execution_count": 69,
     "metadata": {},
     "output_type": "execute_result"
    }
   ],
   "source": [
    "z = -20\n",
    "abs(z)"
   ]
  },
  {
   "cell_type": "code",
   "execution_count": 73,
   "id": "79268fce-cb94-4ead-8d76-b93fc182ae0a",
   "metadata": {},
   "outputs": [],
   "source": [
    "list_1 = [1,2,3,4,5]"
   ]
  },
  {
   "cell_type": "code",
   "execution_count": 75,
   "id": "c45b66d9-86fe-4481-8818-cd60d250d584",
   "metadata": {},
   "outputs": [
    {
     "data": {
      "text/plain": [
       "15"
      ]
     },
     "execution_count": 75,
     "metadata": {},
     "output_type": "execute_result"
    }
   ],
   "source": [
    "sum(list_1)"
   ]
  },
  {
   "cell_type": "code",
   "execution_count": 79,
   "id": "286a47bc-a0fe-4f87-b2b0-f16fe4a45929",
   "metadata": {},
   "outputs": [
    {
     "data": {
      "text/plain": [
       "3.56"
      ]
     },
     "execution_count": 79,
     "metadata": {},
     "output_type": "execute_result"
    }
   ],
   "source": [
    "round(3.55555,2)"
   ]
  },
  {
   "cell_type": "code",
   "execution_count": 81,
   "id": "5fc586d7-0089-4636-ab99-7e87758ceade",
   "metadata": {},
   "outputs": [
    {
     "data": {
      "text/plain": [
       "3"
      ]
     },
     "execution_count": 81,
     "metadata": {},
     "output_type": "execute_result"
    }
   ],
   "source": [
    "round(3.2)"
   ]
  },
  {
   "cell_type": "code",
   "execution_count": 83,
   "id": "a52b7742-fd79-4a4f-8b2a-910d8d393ae7",
   "metadata": {},
   "outputs": [
    {
     "data": {
      "text/plain": [
       "1024"
      ]
     },
     "execution_count": 83,
     "metadata": {},
     "output_type": "execute_result"
    }
   ],
   "source": [
    "2 ** 10"
   ]
  },
  {
   "cell_type": "code",
   "execution_count": 87,
   "id": "36c8c8e9-581c-4045-bd7f-cd596892b3f9",
   "metadata": {},
   "outputs": [
    {
     "data": {
      "text/plain": [
       "1024"
      ]
     },
     "execution_count": 87,
     "metadata": {},
     "output_type": "execute_result"
    }
   ],
   "source": [
    "pow(2, 10)"
   ]
  },
  {
   "cell_type": "code",
   "execution_count": 89,
   "id": "39be74a6-c3fc-41ed-9d32-a39564603b13",
   "metadata": {},
   "outputs": [
    {
     "data": {
      "text/plain": [
       "12"
      ]
     },
     "execution_count": 89,
     "metadata": {},
     "output_type": "execute_result"
    }
   ],
   "source": [
    "len(\"icasmekerica\")"
   ]
  },
  {
   "cell_type": "code",
   "execution_count": null,
   "id": "1cd908ec-6b66-4f97-8df6-7b34e675038d",
   "metadata": {},
   "outputs": [],
   "source": []
  }
 ],
 "metadata": {
  "kernelspec": {
   "display_name": "Python 3 (ipykernel)",
   "language": "python",
   "name": "python3"
  },
  "language_info": {
   "codemirror_mode": {
    "name": "ipython",
    "version": 3
   },
   "file_extension": ".py",
   "mimetype": "text/x-python",
   "name": "python",
   "nbconvert_exporter": "python",
   "pygments_lexer": "ipython3",
   "version": "3.12.7"
  }
 },
 "nbformat": 4,
 "nbformat_minor": 5
}
