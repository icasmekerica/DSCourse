{
 "cells": [
  {
   "cell_type": "code",
   "execution_count": 1,
   "id": "c176e739-a51d-4d68-8d08-b862d3bdce69",
   "metadata": {},
   "outputs": [],
   "source": [
    "y = 5 **3"
   ]
  },
  {
   "cell_type": "code",
   "execution_count": 3,
   "id": "808cc527-67ac-4d12-b4c5-b50a01451bd9",
   "metadata": {},
   "outputs": [
    {
     "data": {
      "text/plain": [
       "125"
      ]
     },
     "execution_count": 3,
     "metadata": {},
     "output_type": "execute_result"
    }
   ],
   "source": [
    "y"
   ]
  },
  {
   "cell_type": "code",
   "execution_count": 5,
   "id": "48f0d937-1f72-423f-af0a-c1df8eb0102b",
   "metadata": {},
   "outputs": [
    {
     "data": {
      "text/plain": [
       "True"
      ]
     },
     "execution_count": 5,
     "metadata": {},
     "output_type": "execute_result"
    }
   ],
   "source": [
    "y == 125"
   ]
  },
  {
   "cell_type": "code",
   "execution_count": 7,
   "id": "faef511f-c3bc-467e-884b-846f2067f2b3",
   "metadata": {},
   "outputs": [
    {
     "data": {
      "text/plain": [
       "False"
      ]
     },
     "execution_count": 7,
     "metadata": {},
     "output_type": "execute_result"
    }
   ],
   "source": [
    "y != 125"
   ]
  },
  {
   "cell_type": "code",
   "execution_count": null,
   "id": "ef92e4ac-c5e5-45ca-b227-e369e3338b14",
   "metadata": {},
   "outputs": [],
   "source": []
  }
 ],
 "metadata": {
  "kernelspec": {
   "display_name": "Python 3 (ipykernel)",
   "language": "python",
   "name": "python3"
  },
  "language_info": {
   "codemirror_mode": {
    "name": "ipython",
    "version": 3
   },
   "file_extension": ".py",
   "mimetype": "text/x-python",
   "name": "python",
   "nbconvert_exporter": "python",
   "pygments_lexer": "ipython3",
   "version": "3.12.7"
  }
 },
 "nbformat": 4,
 "nbformat_minor": 5
}
