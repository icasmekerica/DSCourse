{
 "cells": [
  {
   "cell_type": "code",
   "execution_count": 1,
   "id": "8fcdebe9-7dda-442a-a281-6d15fdf6f3d0",
   "metadata": {},
   "outputs": [
    {
     "data": {
      "text/plain": [
       "['Ica', 'Masa', 'Bata', 'Ogi']"
      ]
     },
     "execution_count": 1,
     "metadata": {},
     "output_type": "execute_result"
    }
   ],
   "source": [
    "Participants = ['Ica', 'Masa', 'Bata', 'Ogi']\n",
    "Participants"
   ]
  },
  {
   "cell_type": "code",
   "execution_count": 3,
   "id": "738eca60-1cc2-429f-9042-a51f9e463031",
   "metadata": {},
   "outputs": [
    {
     "data": {
      "text/plain": [
       "'Masa'"
      ]
     },
     "execution_count": 3,
     "metadata": {},
     "output_type": "execute_result"
    }
   ],
   "source": [
    "Participants[1]"
   ]
  },
  {
   "cell_type": "code",
   "execution_count": 5,
   "id": "5fd246ba-5d49-4017-a72d-8752e96f6512",
   "metadata": {},
   "outputs": [
    {
     "data": {
      "text/plain": [
       "'Ogi'"
      ]
     },
     "execution_count": 5,
     "metadata": {},
     "output_type": "execute_result"
    }
   ],
   "source": [
    "Participants[-1]"
   ]
  },
  {
   "cell_type": "code",
   "execution_count": 9,
   "id": "66adc39f-fec1-4e28-ad6f-6f0eafb09c34",
   "metadata": {},
   "outputs": [
    {
     "data": {
      "text/plain": [
       "['Ica', 'Masa', 'Bata', 'Jablan']"
      ]
     },
     "execution_count": 9,
     "metadata": {},
     "output_type": "execute_result"
    }
   ],
   "source": [
    "Participants[3] = 'Jablan'\n",
    "Participants"
   ]
  },
  {
   "cell_type": "code",
   "execution_count": 11,
   "id": "a321f059-d3fa-4f7e-86b5-8d94c5811dcd",
   "metadata": {},
   "outputs": [
    {
     "data": {
      "text/plain": [
       "['Ica', 'Masa', 'Jablan']"
      ]
     },
     "execution_count": 11,
     "metadata": {},
     "output_type": "execute_result"
    }
   ],
   "source": [
    "del Participants[2]\n",
    "Participants"
   ]
  },
  {
   "cell_type": "code",
   "execution_count": 13,
   "id": "cf48b81b-273c-436a-87c1-ddf353ac0f05",
   "metadata": {},
   "outputs": [
    {
     "data": {
      "text/plain": [
       "['Ica', 'Masa', 'Jablan', 'Duca']"
      ]
     },
     "execution_count": 13,
     "metadata": {},
     "output_type": "execute_result"
    }
   ],
   "source": [
    "Participants.append(\"Duca\")\n",
    "Participants"
   ]
  },
  {
   "cell_type": "code",
   "execution_count": 15,
   "id": "c6178d6a-66ed-4456-aab5-9a262a5c860d",
   "metadata": {},
   "outputs": [
    {
     "data": {
      "text/plain": [
       "['Ica', 'Masa', 'Jablan', 'Duca', 'Goran', 'Katarina']"
      ]
     },
     "execution_count": 15,
     "metadata": {},
     "output_type": "execute_result"
    }
   ],
   "source": [
    "Participants.extend(['Goran', 'Katarina'])\n",
    "Participants"
   ]
  },
  {
   "cell_type": "code",
   "execution_count": 17,
   "id": "33df29fa-0436-41dd-891e-700fd03af2b4",
   "metadata": {},
   "outputs": [
    {
     "name": "stdout",
     "output_type": "stream",
     "text": [
      "Prvi je Ica\n"
     ]
    }
   ],
   "source": [
    "print('Prvi je ' + Participants[0])"
   ]
  },
  {
   "cell_type": "code",
   "execution_count": 19,
   "id": "4e751cfb-5967-4bb4-be7f-686c668986ab",
   "metadata": {},
   "outputs": [
    {
     "data": {
      "text/plain": [
       "12"
      ]
     },
     "execution_count": 19,
     "metadata": {},
     "output_type": "execute_result"
    }
   ],
   "source": [
    "len('icasmekerica')"
   ]
  },
  {
   "cell_type": "code",
   "execution_count": 21,
   "id": "7435f320-1b78-45b8-9e67-d8a683b08baf",
   "metadata": {},
   "outputs": [
    {
     "data": {
      "text/plain": [
       "6"
      ]
     },
     "execution_count": 21,
     "metadata": {},
     "output_type": "execute_result"
    }
   ],
   "source": [
    "len(Participants)"
   ]
  },
  {
   "cell_type": "code",
   "execution_count": 23,
   "id": "1b3a56da-783d-4d7f-932f-78433f13c1f9",
   "metadata": {},
   "outputs": [
    {
     "data": {
      "text/plain": [
       "['Masa', 'Jablan']"
      ]
     },
     "execution_count": 23,
     "metadata": {},
     "output_type": "execute_result"
    }
   ],
   "source": [
    "Participants[1:3]"
   ]
  },
  {
   "cell_type": "code",
   "execution_count": 25,
   "id": "68f1b1c4-b980-46c5-9d1d-5af374319719",
   "metadata": {},
   "outputs": [
    {
     "data": {
      "text/plain": [
       "['Ica', 'Masa']"
      ]
     },
     "execution_count": 25,
     "metadata": {},
     "output_type": "execute_result"
    }
   ],
   "source": [
    "Participants[:2]"
   ]
  },
  {
   "cell_type": "code",
   "execution_count": 27,
   "id": "ad37698a-73c3-4f6c-9904-02640d4ed397",
   "metadata": {},
   "outputs": [
    {
     "data": {
      "text/plain": [
       "['Goran', 'Katarina']"
      ]
     },
     "execution_count": 27,
     "metadata": {},
     "output_type": "execute_result"
    }
   ],
   "source": [
    "Participants[4:]"
   ]
  },
  {
   "cell_type": "code",
   "execution_count": 31,
   "id": "81d0b7c4-5e1d-4c34-8874-4c3eb41820c6",
   "metadata": {},
   "outputs": [
    {
     "data": {
      "text/plain": [
       "['Goran', 'Katarina']"
      ]
     },
     "execution_count": 31,
     "metadata": {},
     "output_type": "execute_result"
    }
   ],
   "source": [
    "Participants[-2:]"
   ]
  },
  {
   "cell_type": "code",
   "execution_count": 33,
   "id": "c4a955bd-dd50-49e6-b611-7c2c206f952a",
   "metadata": {},
   "outputs": [
    {
     "data": {
      "text/plain": [
       "4"
      ]
     },
     "execution_count": 33,
     "metadata": {},
     "output_type": "execute_result"
    }
   ],
   "source": [
    "Participants.index(\"Goran\")"
   ]
  },
  {
   "cell_type": "code",
   "execution_count": 35,
   "id": "65ffcff5-7fa2-497a-ab57-d666e1ac6cc3",
   "metadata": {},
   "outputs": [
    {
     "data": {
      "text/plain": [
       "['Jovan', 'Bojana']"
      ]
     },
     "execution_count": 35,
     "metadata": {},
     "output_type": "execute_result"
    }
   ],
   "source": [
    "Newcomers = ['Jovan', 'Bojana']\n",
    "Newcomers"
   ]
  },
  {
   "cell_type": "code",
   "execution_count": 37,
   "id": "2c788344-75eb-423f-b483-906acbbbd52f",
   "metadata": {},
   "outputs": [
    {
     "data": {
      "text/plain": [
       "[['Ica', 'Masa', 'Jablan', 'Duca', 'Goran', 'Katarina'], ['Jovan', 'Bojana']]"
      ]
     },
     "execution_count": 37,
     "metadata": {},
     "output_type": "execute_result"
    }
   ],
   "source": [
    "BiggerList = [Participants, Newcomers]\n",
    "BiggerList"
   ]
  },
  {
   "cell_type": "code",
   "execution_count": 41,
   "id": "4fcf763f-c265-4fec-8501-f27e3a57907f",
   "metadata": {},
   "outputs": [
    {
     "data": {
      "text/plain": [
       "['Duca', 'Goran', 'Ica', 'Jablan', 'Katarina', 'Masa']"
      ]
     },
     "execution_count": 41,
     "metadata": {},
     "output_type": "execute_result"
    }
   ],
   "source": [
    "Participants.sort()\n",
    "Participants"
   ]
  },
  {
   "cell_type": "code",
   "execution_count": 43,
   "id": "84325210-c932-45b4-b5b9-4cd85b91ff52",
   "metadata": {},
   "outputs": [
    {
     "data": {
      "text/plain": [
       "['Masa', 'Katarina', 'Jablan', 'Ica', 'Goran', 'Duca']"
      ]
     },
     "execution_count": 43,
     "metadata": {},
     "output_type": "execute_result"
    }
   ],
   "source": [
    "Participants.sort(reverse = True)\n",
    "Participants"
   ]
  },
  {
   "cell_type": "code",
   "execution_count": null,
   "id": "496dced9-75ec-47a2-82f7-ec3d60757bb0",
   "metadata": {},
   "outputs": [],
   "source": []
  }
 ],
 "metadata": {
  "kernelspec": {
   "display_name": "Python 3 (ipykernel)",
   "language": "python",
   "name": "python3"
  },
  "language_info": {
   "codemirror_mode": {
    "name": "ipython",
    "version": 3
   },
   "file_extension": ".py",
   "mimetype": "text/x-python",
   "name": "python",
   "nbconvert_exporter": "python",
   "pygments_lexer": "ipython3",
   "version": "3.12.7"
  }
 },
 "nbformat": 4,
 "nbformat_minor": 5
}
