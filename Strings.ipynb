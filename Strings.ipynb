{
 "cells": [
  {
   "cell_type": "code",
   "execution_count": 2,
   "id": "859d0e7d-98db-452e-9ed1-2c42c9769743",
   "metadata": {},
   "outputs": [
    {
     "data": {
      "text/plain": [
       "'George'"
      ]
     },
     "execution_count": 2,
     "metadata": {},
     "output_type": "execute_result"
    }
   ],
   "source": [
    "'George'"
   ]
  },
  {
   "cell_type": "code",
   "execution_count": 4,
   "id": "c15ed047-7195-450c-9d3a-404f4b9329af",
   "metadata": {},
   "outputs": [
    {
     "data": {
      "text/plain": [
       "'George'"
      ]
     },
     "execution_count": 4,
     "metadata": {},
     "output_type": "execute_result"
    }
   ],
   "source": [
    "\"George\""
   ]
  },
  {
   "cell_type": "code",
   "execution_count": 6,
   "id": "67004e73-7b61-4744-9c55-a3b7cce2d909",
   "metadata": {},
   "outputs": [
    {
     "name": "stdout",
     "output_type": "stream",
     "text": [
      "Geprge\n"
     ]
    }
   ],
   "source": [
    "print(\"Geprge\")"
   ]
  },
  {
   "cell_type": "code",
   "execution_count": 8,
   "id": "fd7a0948-26f2-45e5-9821-7c9e9a2c6517",
   "metadata": {},
   "outputs": [],
   "source": [
    "x4 = \"George\""
   ]
  },
  {
   "cell_type": "code",
   "execution_count": 10,
   "id": "fc832159-9286-4c7d-a668-905fc29c42bc",
   "metadata": {},
   "outputs": [
    {
     "name": "stdout",
     "output_type": "stream",
     "text": [
      "George\n"
     ]
    }
   ],
   "source": [
    "print(x4)"
   ]
  },
  {
   "cell_type": "code",
   "execution_count": 16,
   "id": "2d8d88c5-46b7-490e-a82c-183a760c7819",
   "metadata": {},
   "outputs": [
    {
     "name": "stdout",
     "output_type": "stream",
     "text": [
      "10 Dollars\n"
     ]
    }
   ],
   "source": [
    "y = 10\n",
    "print(str(y) + \" Dollars\")"
   ]
  },
  {
   "cell_type": "code",
   "execution_count": 18,
   "id": "9c5ae9fb-aff7-4a8f-a902-39b2b6f2a8be",
   "metadata": {},
   "outputs": [
    {
     "data": {
      "text/plain": [
       "\"I'm fine\""
      ]
     },
     "execution_count": 18,
     "metadata": {},
     "output_type": "execute_result"
    }
   ],
   "source": [
    "\"I'm fine\""
   ]
  },
  {
   "cell_type": "code",
   "execution_count": 22,
   "id": "0b9f6d6a-0d87-474f-a8f0-1d4a12ad8723",
   "metadata": {},
   "outputs": [
    {
     "data": {
      "text/plain": [
       "\"I'm fine\""
      ]
     },
     "execution_count": 22,
     "metadata": {},
     "output_type": "execute_result"
    }
   ],
   "source": [
    "'I\\'m fine'"
   ]
  },
  {
   "cell_type": "code",
   "execution_count": 24,
   "id": "3c228120-9585-4c38-9ee5-58164e34ca6b",
   "metadata": {},
   "outputs": [
    {
     "data": {
      "text/plain": [
       "'Press \"Enter\"'"
      ]
     },
     "execution_count": 24,
     "metadata": {},
     "output_type": "execute_result"
    }
   ],
   "source": [
    "'Press \"Enter\"'"
   ]
  },
  {
   "cell_type": "code",
   "execution_count": 30,
   "id": "e88fd191-be0d-451f-b166-eb829a799ba5",
   "metadata": {},
   "outputs": [
    {
     "data": {
      "text/plain": [
       "'Red car'"
      ]
     },
     "execution_count": 30,
     "metadata": {},
     "output_type": "execute_result"
    }
   ],
   "source": [
    "'Red' ' car'"
   ]
  },
  {
   "cell_type": "code",
   "execution_count": 32,
   "id": "d439a1ee-34a6-4877-bfb3-e389ebd29bd2",
   "metadata": {},
   "outputs": [
    {
     "data": {
      "text/plain": [
       "'Red car'"
      ]
     },
     "execution_count": 32,
     "metadata": {},
     "output_type": "execute_result"
    }
   ],
   "source": [
    "'Red'+' car'"
   ]
  },
  {
   "cell_type": "code",
   "execution_count": 34,
   "id": "57ecbf1e-93b8-4264-b53f-83709a50ac8d",
   "metadata": {},
   "outputs": [
    {
     "name": "stdout",
     "output_type": "stream",
     "text": [
      "Red car\n"
     ]
    }
   ],
   "source": [
    "print('Red'+' car')"
   ]
  },
  {
   "cell_type": "code",
   "execution_count": 36,
   "id": "38a4b982-b358-4e57-b358-53813341ce4e",
   "metadata": {},
   "outputs": [
    {
     "name": "stdout",
     "output_type": "stream",
     "text": [
      "Red car\n"
     ]
    }
   ],
   "source": [
    "print('Red','car')"
   ]
  },
  {
   "cell_type": "code",
   "execution_count": 38,
   "id": "f2dc3fb6-85ca-49d1-ae3e-17c618cb8bb2",
   "metadata": {},
   "outputs": [
    {
     "name": "stdout",
     "output_type": "stream",
     "text": [
      "3 5\n"
     ]
    }
   ],
   "source": [
    "print(3,5)"
   ]
  },
  {
   "cell_type": "code",
   "execution_count": 40,
   "id": "fbd4f5fa-14bb-48fb-9e29-0932c84e4b3c",
   "metadata": {},
   "outputs": [
    {
     "data": {
      "text/plain": [
       "(3, 5, 6.9, 7.0, 'car')"
      ]
     },
     "execution_count": 40,
     "metadata": {},
     "output_type": "execute_result"
    }
   ],
   "source": [
    "3, 5, 6.9, 7.0, 'car'"
   ]
  },
  {
   "cell_type": "code",
   "execution_count": 42,
   "id": "39e092e9-5ad0-485b-83e9-e0a08f8541e7",
   "metadata": {},
   "outputs": [
    {
     "name": "stdout",
     "output_type": "stream",
     "text": [
      "3 5 6.9 7.0 car\n"
     ]
    }
   ],
   "source": [
    "print(3, 5, 6.9, 7.0, 'car')"
   ]
  },
  {
   "cell_type": "code",
   "execution_count": null,
   "id": "f94ebf71-e601-4f62-a819-b900d4e2f6d0",
   "metadata": {},
   "outputs": [],
   "source": []
  }
 ],
 "metadata": {
  "kernelspec": {
   "display_name": "Python 3 (ipykernel)",
   "language": "python",
   "name": "python3"
  },
  "language_info": {
   "codemirror_mode": {
    "name": "ipython",
    "version": 3
   },
   "file_extension": ".py",
   "mimetype": "text/x-python",
   "name": "python",
   "nbconvert_exporter": "python",
   "pygments_lexer": "ipython3",
   "version": "3.12.7"
  }
 },
 "nbformat": 4,
 "nbformat_minor": 5
}
