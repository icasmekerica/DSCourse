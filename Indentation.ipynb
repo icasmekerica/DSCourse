{
 "cells": [
  {
   "cell_type": "code",
   "execution_count": 5,
   "id": "d2e21595-2970-43a3-998b-430516e8bfac",
   "metadata": {},
   "outputs": [
    {
     "name": "stdout",
     "output_type": "stream",
     "text": [
      "5\n"
     ]
    }
   ],
   "source": [
    "def five(x):\n",
    "    x = 5\n",
    "    return x\n",
    "    \n",
    "print(five(3))    "
   ]
  },
  {
   "cell_type": "code",
   "execution_count": null,
   "id": "6fc4dffe-50ec-4522-b9f0-a1f2a3b99fa6",
   "metadata": {},
   "outputs": [],
   "source": []
  }
 ],
 "metadata": {
  "kernelspec": {
   "display_name": "Python 3 (ipykernel)",
   "language": "python",
   "name": "python3"
  },
  "language_info": {
   "codemirror_mode": {
    "name": "ipython",
    "version": 3
   },
   "file_extension": ".py",
   "mimetype": "text/x-python",
   "name": "python",
   "nbconvert_exporter": "python",
   "pygments_lexer": "ipython3",
   "version": "3.12.7"
  }
 },
 "nbformat": 4,
 "nbformat_minor": 5
}
