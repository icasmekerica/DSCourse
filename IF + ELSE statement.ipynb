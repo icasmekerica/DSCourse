{
 "cells": [
  {
   "cell_type": "code",
   "execution_count": 1,
   "id": "c0711110-9e7b-4a3e-aeb9-3be910518496",
   "metadata": {},
   "outputs": [
    {
     "name": "stdout",
     "output_type": "stream",
     "text": [
      "Uraaa!\n"
     ]
    }
   ],
   "source": [
    "if 5 == 15 /3:\n",
    "    print(\"Uraaa!\")"
   ]
  },
  {
   "cell_type": "code",
   "execution_count": 3,
   "id": "95362de6-3bdc-4eda-9fd2-1b81ec11e323",
   "metadata": {},
   "outputs": [],
   "source": [
    "if 5 == 18 /3:\n",
    "    print(\"Uraaa!\")"
   ]
  },
  {
   "cell_type": "code",
   "execution_count": 5,
   "id": "a3d6b4c2-e9f9-4420-baa4-ec2e7ec5c73a",
   "metadata": {},
   "outputs": [
    {
     "name": "stdout",
     "output_type": "stream",
     "text": [
      "Uraaa!\n"
     ]
    }
   ],
   "source": [
    "if 5 != 3 * 6:\n",
    "    print(\"Uraaa!\")"
   ]
  },
  {
   "cell_type": "code",
   "execution_count": 11,
   "id": "1ed240da-c7b4-4d82-ad05-0ba87360a1f4",
   "metadata": {},
   "outputs": [
    {
     "name": "stdout",
     "output_type": "stream",
     "text": [
      "Slucaje 2\n"
     ]
    }
   ],
   "source": [
    "x = 1\n",
    "if x > 3:\n",
    "    print (\"Slucaje 1\")\n",
    "if x <= 3:\n",
    "    print (\"Slucaje 2\")"
   ]
  },
  {
   "cell_type": "code",
   "execution_count": 13,
   "id": "f9735d58-2ec5-4d83-984f-0e0fb6928a4e",
   "metadata": {},
   "outputs": [
    {
     "name": "stdout",
     "output_type": "stream",
     "text": [
      "Slucaje 2\n"
     ]
    }
   ],
   "source": [
    "x = 1\n",
    "if x > 3:\n",
    "    print (\"Slucaje 1\")\n",
    "else:\n",
    "    print (\"Slucaje 2\")"
   ]
  },
  {
   "cell_type": "code",
   "execution_count": null,
   "id": "eafbb3a9-4721-4932-ae38-75c455cf49a2",
   "metadata": {},
   "outputs": [],
   "source": []
  }
 ],
 "metadata": {
  "kernelspec": {
   "display_name": "Python 3 (ipykernel)",
   "language": "python",
   "name": "python3"
  },
  "language_info": {
   "codemirror_mode": {
    "name": "ipython",
    "version": 3
   },
   "file_extension": ".py",
   "mimetype": "text/x-python",
   "name": "python",
   "nbconvert_exporter": "python",
   "pygments_lexer": "ipython3",
   "version": "3.12.7"
  }
 },
 "nbformat": 4,
 "nbformat_minor": 5
}
